{
 "cells": [
  {
   "cell_type": "markdown",
   "id": "897544c8",
   "metadata": {},
   "source": [
    "# 파이썬 심화"
   ]
  },
  {
   "cell_type": "code",
   "execution_count": null,
   "id": "f053195b",
   "metadata": {
    "vscode": {
     "languageId": "plaintext"
    }
   },
   "outputs": [],
   "source": []
  },
  {
   "cell_type": "markdown",
   "id": "2208be9c",
   "metadata": {},
   "source": []
  },
  {
   "cell_type": "code",
   "execution_count": null,
   "id": "e430df95",
   "metadata": {
    "vscode": {
     "languageId": "plaintext"
    }
   },
   "outputs": [],
   "source": []
  }
 ],
 "metadata": {
  "language_info": {
   "name": "python"
  }
 },
 "nbformat": 4,
 "nbformat_minor": 5
}
