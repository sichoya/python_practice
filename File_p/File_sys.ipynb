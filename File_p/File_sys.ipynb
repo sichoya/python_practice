{
 "cells": [
  {
   "cell_type": "markdown",
   "id": "309ab3c5",
   "metadata": {},
   "source": [
    "# 파일 처리기 구현\n",
    "• 다양한 유형의 파일(텍스트, CSV, JSON, 바이너리)을 읽고 쓸 수 있어야 합니다\n",
    "\n",
    "• 파일이 존재하지 않거나, 권한이 없거나, 형식이 잘못된 경우 등 다양한 오류 상황을 적절히 처리\n",
    "\n",
    "• 사용자 정의 예외 계층 구조를 설계하고 구현\n",
    "\n",
    "• 오류 발생 시 로깅을 통해 문제를 기록\n",
    "\n",
    "• 모든 파일 작업은 컨텍스트 매니저(`with` 구문)를 사용"
   ]
  },
  {
   "cell_type": "code",
   "execution_count": null,
   "id": "1eb32d0a",
   "metadata": {},
   "outputs": [],
   "source": [
    "# if, elif, else 구문을 통해서 다양한 유형의 파일 읽고 쓰기 형식처리\n",
    "# 지원x 형식의 파일이 들어왔을 경우 예외처리 + '지원하지않는 형식입니다.' 출력.\n",
    "\n"
   ]
  },
  {
   "cell_type": "code",
   "execution_count": null,
   "id": "d4ce9aad",
   "metadata": {},
   "outputs": [],
   "source": [
    "# 텍스트 파일 읽기\n",
    "with open('new.jpg', 'rb') as file:\n",
    "    binary_data = file.read()\n",
    "    print(binary_data)\n",
    "\n",
    "\n",
    "# 텍스트 파일 쓰기\n",
    "data = bytes([0x48, 0x65])\n",
    "\n",
    "with open('binary_data.bin', 'wb') as file:\n",
    "    file= file.write(data)\n",
    "\n",
    "# CSV 파일 읽기\n",
    "\n",
    "with open('data.csv', 'r', encoding='utf-8') as file:\n",
    "    header = file.readline().strip().split(',')\n",
    "\n",
    "    print(header)\n",
    "    for line in file:\n",
    "        values = line.strip().split(',')\n",
    "        print(values)\n",
    "\n",
    "# CSV 파일 쓰기\n",
    "import csv\n",
    "data = [\n",
    "    ['Name', 'Age', 'City'],\n",
    "    ['Alice', 30, 'New York'],\n",
    "    ['Bob', 25, 'Los Angeles'],\n",
    "    ['Charlie', 35, 'Chicago']\n",
    "]\n",
    "with open('output.csv', 'w', newline='', encoding='utf-8') as file:\n",
    "    writer = csv.writer(file)\n",
    "    writer.writerows(data)\n",
    "# JSON 파일 읽기\n",
    "import json\n",
    "\n",
    "with open('data.json', 'r', encoding='utf-8') as file:\n",
    "    data = json.load(file)\n",
    "    print(data)\n",
    "\n",
    "# JSON 파일 쓰기\n",
    "data = {\n",
    "    'name': 'Alice',\n",
    "    'age': 30,\n",
    "    'city': 'New York'\n",
    "}\n",
    "with open('output.json', 'w', encoding='utf-8') as file:\n",
    "    json.dump(data, file, ensure_ascii=False, indent=4)\n",
    "\n",
    "\n"
   ]
  }
 ],
 "metadata": {
  "language_info": {
   "name": "python"
  }
 },
 "nbformat": 4,
 "nbformat_minor": 5
}
